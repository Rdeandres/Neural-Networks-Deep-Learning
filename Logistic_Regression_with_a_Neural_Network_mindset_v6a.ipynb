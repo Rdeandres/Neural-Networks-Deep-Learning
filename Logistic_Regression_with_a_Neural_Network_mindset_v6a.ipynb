{
 "cells": [
  {
   "cell_type": "markdown",
   "metadata": {},
   "source": [
    "# Logistic Regression with a Neural Network mindset\n",
    "\n",
    "Welcome to your first (required) programming assignment! You will build a logistic regression classifier to recognize  cats. This assignment will step you through how to do this with a Neural Network mindset, and so will also hone your intuitions about deep learning.\n",
    "\n",
    "**Instructions:**\n",
    "- Do not use loops (for/while) in your code, unless the instructions explicitly ask you to do so.\n",
    "\n",
    "**You will learn to:**\n",
    "- Build the general architecture of a learning algorithm, including:\n",
    "    - Initializing parameters\n",
    "    - Calculating the cost function and its gradient\n",
    "    - Using an optimization algorithm (gradient descent) \n",
    "- Gather all three functions above into a main model function, in the right order."
   ]
  },
  {
   "cell_type": "markdown",
   "metadata": {},
   "source": [
    "## <font color='darkblue'>Updates</font>\n",
    "This notebook has been updated over the past few months.  The prior version was named \"v5\", and the current versionis now named '6a'\n",
    "\n",
    "#### If you were working on a previous version:\n",
    "* You can find your prior work by looking in the file directory for the older files (named by version name).\n",
    "* To view the file directory, click on the \"Coursera\" icon in the top left corner of this notebook.\n",
    "* Please copy your work from the older versions to the new version, in order to submit your work for grading.\n",
    "\n",
    "#### List of Updates\n",
    "* Forward propagation formula, indexing now starts at 1 instead of 0.\n",
    "* Optimization function comment now says \"print cost every 100 training iterations\" instead of \"examples\".\n",
    "* Fixed grammar in the comments.\n",
    "* Y_prediction_test variable name is used consistently.\n",
    "* Plot's axis label now says \"iterations (hundred)\" instead of \"iterations\".\n",
    "* When testing the model, the test image is normalized by dividing by 255."
   ]
  },
  {
   "cell_type": "markdown",
   "metadata": {},
   "source": [
    "## 1 - Packages ##\n",
    "\n",
    "First, let's run the cell below to import all the packages that you will need during this assignment. \n",
    "- [numpy](www.numpy.org) is the fundamental package for scientific computing with Python.\n",
    "- [h5py](http://www.h5py.org) is a common package to interact with a dataset that is stored on an H5 file.\n",
    "- [matplotlib](http://matplotlib.org) is a famous library to plot graphs in Python.\n",
    "- [PIL](http://www.pythonware.com/products/pil/) and [scipy](https://www.scipy.org/) are used here to test your model with your own picture at the end."
   ]
  },
  {
   "cell_type": "code",
   "execution_count": 121,
   "metadata": {
    "collapsed": true
   },
   "outputs": [],
   "source": [
    "import numpy as np\n",
    "import matplotlib.pyplot as plt\n",
    "import h5py\n",
    "import scipy\n",
    "from PIL import Image\n",
    "from scipy import ndimage\n",
    "from lr_utils import load_dataset\n",
    "\n",
    "%matplotlib inline"
   ]
  },
  {
   "cell_type": "markdown",
   "metadata": {},
   "source": [
    "## 2 - Overview of the Problem set ##\n",
    "\n",
    "**Problem Statement**: You are given a dataset (\"data.h5\") containing:\n",
    "    - a training set of m_train images labeled as cat (y=1) or non-cat (y=0)\n",
    "    - a test set of m_test images labeled as cat or non-cat\n",
    "    - each image is of shape (num_px, num_px, 3) where 3 is for the 3 channels (RGB). Thus, each image is square (height = num_px) and (width = num_px).\n",
    "\n",
    "You will build a simple image-recognition algorithm that can correctly classify pictures as cat or non-cat.\n",
    "\n",
    "Let's get more familiar with the dataset. Load the data by running the following code."
   ]
  },
  {
   "cell_type": "code",
   "execution_count": 122,
   "metadata": {
    "collapsed": true
   },
   "outputs": [],
   "source": [
    "# Loading the data (cat/non-cat)\n",
    "train_set_x_orig, train_set_y, test_set_x_orig, test_set_y, classes = load_dataset()"
   ]
  },
  {
   "cell_type": "markdown",
   "metadata": {},
   "source": [
    "We added \"_orig\" at the end of image datasets (train and test) because we are going to preprocess them. After preprocessing, we will end up with train_set_x and test_set_x (the labels train_set_y and test_set_y don't need any preprocessing).\n",
    "\n",
    "Each line of your train_set_x_orig and test_set_x_orig is an array representing an image. You can visualize an example by running the following code. Feel free also to change the `index` value and re-run to see other images. "
   ]
  },
  {
   "cell_type": "code",
   "execution_count": 123,
   "metadata": {},
   "outputs": [
    {
     "name": "stdout",
     "output_type": "stream",
     "text": [
      "y = [1], it's a 'cat' picture.\n"
     ]
    },
    {
     "data": {
      "image/png": "[encoded data removed]",
      "text/plain": [
       "<matplotlib.figure.Figure at 0x7f8606ab94a8>"
      ]
     },
     "metadata": {},
     "output_type": "display_data"
    }
   ],
   "source": [
    "# Example of a picture\n",
    "index = 25\n",
    "plt.imshow(train_set_x_orig[index])\n",
    "print (\"y = \" + str(train_set_y[:, index]) + \", it's a '\" + classes[np.squeeze(train_set_y[:, index])].decode(\"utf-8\") +  \"' picture.\")"
   ]
  },
  {
   "cell_type": "markdown",
   "metadata": {},
   "source": [
    "Many software bugs in deep learning come from having matrix/vector dimensions that don't fit. If you can keep your matrix/vector dimensions straight you will go a long way toward eliminating many bugs. \n",
    "\n",
    "**Exercise:** Find the values for:\n",
    "    - m_train (number of training examples)\n",
    "    - m_test (number of test examples)\n",
    "    - num_px (= height = width of a training image)\n",
    "Remember that `train_set_x_orig` is a numpy-array of shape (m_train, num_px, num_px, 3). For instance, you can access `m_train` by writing `train_set_x_orig.shape[0]`."
   ]
  },
  {
   "cell_type": "code",
   "execution_count": 124,
   "metadata": {
    "scrolled": true
   },
   "outputs": [
    {
     "name": "stdout",
     "output_type": "stream",
     "text": [
      "Number of training examples: m_train = 209\n",
      "Number of testing examples: m_test = 50\n",
      "Height/Width of each image: num_px = 64\n",
      "Each image is of size: (64, 64, 3)\n",
      "train_set_x shape: (209, 64, 64, 3)\n",
      "train_set_y shape: (1, 209)\n",
      "test_set_x shape: (50, 64, 64, 3)\n",
      "test_set_y shape: (1, 50)\n"
     ]
    }
   ],
   "source": [
    "### START CODE HERE ### (≈ 3 lines of code)\n",
    "m_train = train_set_x_orig.shape[0]\n",
    "m_test = test_set_x_orig.shape[0]\n",
    "num_px = train_set_x_orig.shape[1]\n",
    "### END CODE HERE ###\n",
    "\n",
    "print (\"Number of training examples: m_train = \" + str(m_train))\n",
    "print (\"Number of testing examples: m_test = \" + str(m_test))\n",
    "print (\"Height/Width of each image: num_px = \" + str(num_px))\n",
    "print (\"Each image is of size: (\" + str(num_px) + \", \" + str(num_px) + \", 3)\")\n",
    "print (\"train_set_x shape: \" + str(train_set_x_orig.shape))\n",
    "print (\"train_set_y shape: \" + str(train_set_y.shape))\n",
    "print (\"test_set_x shape: \" + str(test_set_x_orig.shape))\n",
    "print (\"test_set_y shape: \" + str(test_set_y.shape))"
   ]
  },
  {
   "cell_type": "markdown",
   "metadata": {},
   "source": [
    "**Expected Output for m_train, m_test and num_px**: \n",
    "<table style=\"width:15%\">\n",
    "  <tr>\n",
    "    <td>**m_train**</td>\n",
    "    <td> 209 </td> \n",
    "  </tr>\n",
    "  \n",
    "  <tr>\n",
    "    <td>**m_test**</td>\n",
    "    <td> 50 </td> \n",
    "  </tr>\n",
    "  \n",
    "  <tr>\n",
    "    <td>**num_px**</td>\n",
    "    <td> 64 </td> \n",
    "  </tr>\n",
    "  \n",
    "</table>\n"
   ]
  },
  {
   "cell_type": "markdown",
   "metadata": {},
   "source": [
    "For convenience, you should now reshape images of shape (num_px, num_px, 3) in a numpy-array of shape (num_px $*$ num_px $*$ 3, 1). After this, our training (and test) dataset is a numpy-array where each column represents a flattened image. There should be m_train (respectively m_test) columns.\n",
    "\n",
    "**Exercise:** Reshape the training and test data sets so that images of size (num_px, num_px, 3) are flattened into single vectors of shape (num\\_px $*$ num\\_px $*$ 3, 1).\n",
    "\n",
    "A trick when you want to flatten a matrix X of shape (a,b,c,d) to a matrix X_flatten of shape (b$*$c$*$d, a) is to use: \n",
    "```python\n",
    "X_flatten = X.reshape(X.shape[0], -1).T      # X.T is the transpose of X\n",
    "```"
   ]
  },
  {
   "cell_type": "code",
   "execution_count": 125,
   "metadata": {},
   "outputs": [
    {
     "name": "stdout",
     "output_type": "stream",
     "text": [
      "train_set_x_flatten shape: (12288, 209)\n",
      "train_set_y shape: (1, 209)\n",
      "test_set_x_flatten shape: (12288, 50)\n",
      "test_set_y shape: (1, 50)\n",
      "sanity check after reshaping: [17 71 49 38 70]\n"
     ]
    }
   ],
   "source": [
    "# Reshape the training and test examples\n",
    "\n",
    "### START CODE HERE ### (≈ 2 lines of code)\n",
    "train_set_x_flatten = train_set_x_orig.reshape(train_set_x_orig.shape[1]*train_set_x_orig.shape[2]*3,m_train)\n",
    "test_set_x_flatten = test_set_x_orig.reshape(train_set_x_orig.shape[1]*test_set_x_orig.shape[2]*3,m_test)\n",
    "### END CODE HERE ###\n",
    "\n",
    "print (\"train_set_x_flatten shape: \" + str(train_set_x_flatten.shape))\n",
    "print (\"train_set_y shape: \" + str(train_set_y.shape))\n",
    "print (\"test_set_x_flatten shape: \" + str(test_set_x_flatten.shape))\n",
    "print (\"test_set_y shape: \" + str(test_set_y.shape))\n",
    "print (\"sanity check after reshaping: \" + str(train_set_x_flatten[0:5,0]))"
   ]
  },
  {
   "cell_type": "markdown",
   "metadata": {},
   "source": [
    "**Expected Output**: \n",
    "\n",
    "<table style=\"width:35%\">\n",
    "  <tr>\n",
    "    <td>**train_set_x_flatten shape**</td>\n",
    "    <td> (12288, 209)</td> \n",
    "  </tr>\n",
    "  <tr>\n",
    "    <td>**train_set_y shape**</td>\n",
    "    <td>(1, 209)</td> \n",
    "  </tr>\n",
    "  <tr>\n",
    "    <td>**test_set_x_flatten shape**</td>\n",
    "    <td>(12288, 50)</td> \n",
    "  </tr>\n",
    "  <tr>\n",
    "    <td>**test_set_y shape**</td>\n",
    "    <td>(1, 50)</td> \n",
    "  </tr>\n",
    "  <tr>\n",
    "  <td>**sanity check after reshaping**</td>\n",
    "  <td>[17 31 56 22 33]</td> \n",
    "  </tr>\n",
    "</table>"
   ]
  },
  {
   "cell_type": "markdown",
   "metadata": {},
   "source": [
    "To represent color images, the red, green and blue channels (RGB) must be specified for each pixel, and so the pixel value is actually a vector of three numbers ranging from 0 to 255.\n",
    "\n",
    "One common preprocessing step in machine learning is to center and standardize your dataset, meaning that you substract the mean of the whole numpy array from each example, and then divide each example by the standard deviation of the whole numpy array. But for picture datasets, it is simpler and more convenient and works almost as well to just divide every row of the dataset by 255 (the maximum value of a pixel channel).\n",
    "\n",
    "<!-- During the training of your model, you're going to multiply weights and add biases to some initial inputs in order to observe neuron activations. Then you backpropogate with the gradients to train the model. But, it is extremely important for each feature to have a similar range such that our gradients don't explode. You will see that more in detail later in the lectures. !--> \n",
    "\n",
    "Let's standardize our dataset."
   ]
  },
  {
   "cell_type": "code",
   "execution_count": 126,
   "metadata": {
    "collapsed": true
   },
   "outputs": [],
   "source": [
    "train_set_x = train_set_x_flatten/255.\n",
    "test_set_x = test_set_x_flatten/255."
   ]
  },
  {
   "cell_type": "markdown",
   "metadata": {},
   "source": [
    "<font color='blue'>\n",
    "**What you need to remember:**\n",
    "\n",
    "Common steps for pre-processing a new dataset are:\n",
    "- Figure out the dimensions and shapes of the problem (m_train, m_test, num_px, ...)\n",
    "- Reshape the datasets such that each example is now a vector of size (num_px \\* num_px \\* 3, 1)\n",
    "- \"Standardize\" the data"
   ]
  },
  {
   "cell_type": "markdown",
   "metadata": {},
   "source": [
    "## 3 - General Architecture of the learning algorithm ##\n",
    "\n",
    "It's time to design a simple algorithm to distinguish cat images from non-cat images.\n",
    "\n",
    "You will build a Logistic Regression, using a Neural Network mindset. The following Figure explains why **Logistic Regression is actually a very simple Neural Network!**\n",
    "\n",
    "<img src=\"images/LogReg_kiank.png\" style=\"width:650px;height:400px;\">\n",
    "\n",
    "**Mathematical expression of the algorithm**:\n",
    "\n",
    "For one example $x^{(i)}$:\n",
    "$$z^{(i)} = w^T x^{(i)} + b \\tag{1}$$\n",
    "$$\\hat{y}^{(i)} = a^{(i)} = sigmoid(z^{(i)})\\tag{2}$$ \n",
    "$$ \\mathcal{L}(a^{(i)}, y^{(i)}) =  - y^{(i)}  \\log(a^{(i)}) - (1-y^{(i)} )  \\log(1-a^{(i)})\\tag{3}$$\n",
    "\n",
    "The cost is then computed by summing over all training examples:\n",
    "$$ J = \\frac{1}{m} \\sum_{i=1}^m \\mathcal{L}(a^{(i)}, y^{(i)})\\tag{6}$$\n",
    "\n",
    "**Key steps**:\n",
    "In this exercise, you will carry out the following steps: \n",
    "    - Initialize the parameters of the model\n",
    "    - Learn the parameters for the model by minimizing the cost  \n",
    "    - Use the learned parameters to make predictions (on the test set)\n",
    "    - Analyse the results and conclude"
   ]
  },
  {
   "cell_type": "markdown",
   "metadata": {},
   "source": [
    "## 4 - Building the parts of our algorithm ## \n",
    "\n",
    "The main steps for building a Neural Network are:\n",
    "1. Define the model structure (such as number of input features) \n",
    "2. Initialize the model's parameters\n",
    "3. Loop:\n",
    "    - Calculate current loss (forward propagation)\n",
    "    - Calculate current gradient (backward propagation)\n",
    "    - Update parameters (gradient descent)\n",
    "\n",
    "You often build 1-3 separately and integrate them into one function we call `model()`.\n",
    "\n",
    "### 4.1 - Helper functions\n",
    "\n",
    "**Exercise**: Using your code from \"Python Basics\", implement `sigmoid()`. As you've seen in the figure above, you need to compute $sigmoid( w^T x + b) = \\frac{1}{1 + e^{-(w^T x + b)}}$ to make predictions. Use np.exp()."
   ]
  },
  {
   "cell_type": "code",
   "execution_count": 127,
   "metadata": {
    "collapsed": true
   },
   "outputs": [],
   "source": [
    "# GRADED FUNCTION: sigmoid\n",
    "\n",
    "def sigmoid(z):\n",
    "    \"\"\"\n",
    "    Compute the sigmoid of z\n",
    "\n",
    "    Arguments:\n",
    "    z -- A scalar or numpy array of any size.\n",
    "\n",
    "    Return:\n",
    "    s -- sigmoid(z)\n",
    "    \"\"\"\n",
    "\n",
    "    ### START CODE HERE ### (≈ 1 line of code)\n",
    "    s = 1/(1+np.exp(-z))\n",
    "    ### END CODE HERE ###\n",
    "    \n",
    "    return s"
   ]
  },
  {
   "cell_type": "code",
   "execution_count": 128,
   "metadata": {
    "scrolled": true
   },
   "outputs": [
    {
     "name": "stdout",
     "output_type": "stream",
     "text": [
      "sigmoid([0, 2]) = [ 0.5         0.88079708]\n"
     ]
    }
   ],
   "source": [
    "print (\"sigmoid([0, 2]) = \" + str(sigmoid(np.array([0,2]))))"
   ]
  },
  {
   "cell_type": "markdown",
   "metadata": {},
   "source": [
    "**Expected Output**: \n",
    "\n",
    "<table>\n",
    "  <tr>\n",
    "    <td>**sigmoid([0, 2])**</td>\n",
    "    <td> [ 0.5         0.88079708]</td> \n",
    "  </tr>\n",
    "</table>"
   ]
  },
  {
   "cell_type": "markdown",
   "metadata": {},
   "source": [
    "### 4.2 - Initializing parameters\n",
    "\n",
    "**Exercise:** Implement parameter initialization in the cell below. You have to initialize w as a vector of zeros. If you don't know what numpy function to use, look up np.zeros() in the Numpy library's documentation."
   ]
  },
  {
   "cell_type": "code",
   "execution_count": 129,
   "metadata": {
    "collapsed": true
   },
   "outputs": [],
   "source": [
    "# GRADED FUNCTION: initialize_with_zeros\n",
    "\n",
    "def initialize_with_zeros(dim):\n",
    "    \"\"\"\n",
    "    This function creates a vector of zeros of shape (dim, 1) for w and initializes b to 0.\n",
    "    \n",
    "    Argument:\n",
    "    dim -- size of the w vector we want (or number of parameters in this case)\n",
    "    \n",
    "    Returns:\n",
    "    w -- initialized vector of shape (dim, 1)\n",
    "    b -- initialized scalar (corresponds to the bias)\n",
    "    \"\"\"\n",
    "    \n",
    "    ### START CODE HERE ### (≈ 1 line of code)\n",
    "    w = np.zeros(shape=(dim, 1))\n",
    "    b = 0\n",
    "    ### END CODE HERE ###\n",
    "\n",
    "    assert(w.shape == (dim, 1))\n",
    "    assert(isinstance(b, float) or isinstance(b, int))\n",
    "    \n",
    "    return w, b"
   ]
  },
  {
   "cell_type": "code",
   "execution_count": 130,
   "metadata": {},
   "outputs": [
    {
     "name": "stdout",
     "output_type": "stream",
     "text": [
      "[[ 0.]\n",
      " [ 0.]]\n"
     ]
    }
   ],
   "source": [
    "print(np.zeros((2, 1)))"
   ]
  },
  {
   "cell_type": "code",
   "execution_count": 131,
   "metadata": {},
   "outputs": [
    {
     "name": "stdout",
     "output_type": "stream",
     "text": [
      "w = [[ 0.]\n",
      " [ 0.]]\n",
      "b = 0\n"
     ]
    }
   ],
   "source": [
    "dim = 2\n",
    "w, b = initialize_with_zeros(dim)\n",
    "print (\"w = \" + str(w))\n",
    "print (\"b = \" + str(b))"
   ]
  },
  {
   "cell_type": "markdown",
   "metadata": {},
   "source": [
    "**Expected Output**: \n",
    "\n",
    "\n",
    "<table style=\"width:15%\">\n",
    "    <tr>\n",
    "        <td>  ** w **  </td>\n",
    "        <td> [[ 0.]\n",
    " [ 0.]] </td>\n",
    "    </tr>\n",
    "    <tr>\n",
    "        <td>  ** b **  </td>\n",
    "        <td> 0 </td>\n",
    "    </tr>\n",
    "</table>\n",
    "\n",
    "For image inputs, w will be of shape (num_px $\\times$ num_px $\\times$ 3, 1)."
   ]
  },
  {
   "cell_type": "markdown",
   "metadata": {},
   "source": [
    "### 4.3 - Forward and Backward propagation\n",
    "\n",
    "Now that your parameters are initialized, you can do the \"forward\" and \"backward\" propagation steps for learning the parameters.\n",
    "\n",
    "**Exercise:** Implement a function `propagate()` that computes the cost function and its gradient.\n",
    "\n",
    "**Hints**:\n",
    "\n",
    "Forward Propagation:\n",
    "- You get X\n",
    "- You compute $A = \\sigma(w^T X + b) = (a^{(1)}, a^{(2)}, ..., a^{(m-1)}, a^{(m)})$\n",
    "- You calculate the cost function: $J = -\\frac{1}{m}\\sum_{i=1}^{m}y^{(i)}\\log(a^{(i)})+(1-y^{(i)})\\log(1-a^{(i)})$\n",
    "\n",
    "Here are the two formulas you will be using: \n",
    "\n",
    "$$ \\frac{\\partial J}{\\partial w} = \\frac{1}{m}X(A-Y)^T\\tag{7}$$\n",
    "$$ \\frac{\\partial J}{\\partial b} = \\frac{1}{m} \\sum_{i=1}^m (a^{(i)}-y^{(i)})\\tag{8}$$"
   ]
  },
  {
   "cell_type": "code",
   "execution_count": 132,
   "metadata": {
    "collapsed": true
   },
   "outputs": [],
   "source": [
    "# GRADED FUNCTION: propagate\n",
    "\n",
    "def propagate(w, b, X, Y):\n",
    "    \"\"\"\n",
    "    Implement the cost function and its gradient for the propagation explained above\n",
    "\n",
    "    Arguments:\n",
    "    w -- weights, a numpy array of size (num_px * num_px * 3, 1)\n",
    "    b -- bias, a scalar\n",
    "    X -- data of size (num_px * num_px * 3, number of examples)\n",
    "    Y -- true \"label\" vector (containing 0 if non-cat, 1 if cat) of size (1, number of examples)\n",
    "\n",
    "    Return:\n",
    "    cost -- negative log-likelihood cost for logistic regression\n",
    "    dw -- gradient of the loss with respect to w, thus same shape as w\n",
    "    db -- gradient of the loss with respect to b, thus same shape as b\n",
    "    \n",
    "    Tips:\n",
    "    - Write your code step by step for the propagation. np.log(), np.dot()\n",
    "    \"\"\"\n",
    "    \n",
    "       \n",
    "    m = X.shape[1]\n",
    "    \n",
    "    # FORWARD PROPAGATION (FROM X TO COST)\n",
    "    ### START CODE HERE ### (≈ 2 lines of code)\n",
    "    A = sigmoid(np.dot(w.T, X) + b)  # compute activation\n",
    "    cost = (- 1 / m) * np.sum(Y * np.log(A) + (1 - Y) * (np.log(1 - A)))  # compute cost\n",
    "    ### END CODE HERE ###\n",
    "    \n",
    "    # BACKWARD PROPAGATION (TO FIND GRAD)\n",
    "    ### START CODE HERE ### (≈ 2 lines of code)\n",
    "    dw = (1 / m) * np.dot(X, (A - Y).T)\n",
    "    db = (1 / m) * np.sum(A - Y)\n",
    "    ### END CODE HERE ###\n",
    "\n",
    "    assert(dw.shape == w.shape)\n",
    "    assert(db.dtype == float)\n",
    "    cost = np.squeeze(cost)\n",
    "    assert(cost.shape == ())\n",
    "    \n",
    "    grads = {\"dw\": dw,\n",
    "             \"db\": db}\n",
    "    \n",
    "    return grads, cost"
   ]
  },
  {
   "cell_type": "code",
   "execution_count": 133,
   "metadata": {},
   "outputs": [
    {
     "name": "stdout",
     "output_type": "stream",
     "text": [
      "dw = [[ 0.99845601]\n",
      " [ 2.39507239]]\n",
      "db = 0.00145557813678\n",
      "cost = 5.80154531939\n"
     ]
    }
   ],
   "source": [
    "w, b, X, Y = np.array([[1.],[2.]]), 2., np.array([[1.,2.,-1.],[3.,4.,-3.2]]), np.array([[1,0,1]])\n",
    "grads, cost = propagate(w, b, X, Y)\n",
    "print (\"dw = \" + str(grads[\"dw\"]))\n",
    "print (\"db = \" + str(grads[\"db\"]))\n",
    "print (\"cost = \" + str(cost))"
   ]
  },
  {
   "cell_type": "markdown",
   "metadata": {},
   "source": [
    "**Expected Output**:\n",
    "\n",
    "<table style=\"width:50%\">\n",
    "    <tr>\n",
    "        <td>  ** dw **  </td>\n",
    "      <td> [[ 0.99845601]\n",
    "     [ 2.39507239]]</td>\n",
    "    </tr>\n",
    "    <tr>\n",
    "        <td>  ** db **  </td>\n",
    "        <td> 0.00145557813678 </td>\n",
    "    </tr>\n",
    "    <tr>\n",
    "        <td>  ** cost **  </td>\n",
    "        <td> 5.801545319394553 </td>\n",
    "    </tr>\n",
    "\n",
    "</table>"
   ]
  },
  {
   "cell_type": "markdown",
   "metadata": {},
   "source": [
    "### 4.4 - Optimization\n",
    "- You have initialized your parameters.\n",
    "- You are also able to compute a cost function and its gradient.\n",
    "- Now, you want to update the parameters using gradient descent.\n",
    "\n",
    "**Exercise:** Write down the optimization function. The goal is to learn $w$ and $b$ by minimizing the cost function $J$. For a parameter $\\theta$, the update rule is $ \\theta = \\theta - \\alpha \\text{ } d\\theta$, where $\\alpha$ is the learning rate."
   ]
  },
  {
   "cell_type": "code",
   "execution_count": 134,
   "metadata": {
    "collapsed": true
   },
   "outputs": [],
   "source": [
    "# GRADED FUNCTION: optimize\n",
    "\n",
    "def optimize(w, b, X, Y, num_iterations, learning_rate, print_cost = False):\n",
    "    \"\"\"\n",
    "    This function optimizes w and b by running a gradient descent algorithm\n",
    "    \n",
    "    Arguments:\n",
    "    w -- weights, a numpy array of size (num_px * num_px * 3, 1)\n",
    "    b -- bias, a scalar\n",
    "    X -- data of shape (num_px * num_px * 3, number of examples)\n",
    "    Y -- true \"label\" vector (containing 0 if non-cat, 1 if cat), of shape (1, number of examples)\n",
    "    num_iterations -- number of iterations of the optimization loop\n",
    "    learning_rate -- learning rate of the gradient descent update rule\n",
    "    print_cost -- True to print the loss every 100 steps\n",
    "    \n",
    "    Returns:\n",
    "    params -- dictionary containing the weights w and bias b\n",
    "    grads -- dictionary containing the gradients of the weights and bias with respect to the cost function\n",
    "    costs -- list of all the costs computed during the optimization, this will be used to plot the learning curve.\n",
    "    \n",
    "    Tips:\n",
    "    You basically need to write down two steps and iterate through them:\n",
    "        1) Calculate the cost and the gradient for the current parameters. Use propagate().\n",
    "        2) Update the parameters using gradient descent rule for w and b.\n",
    "    \"\"\"\n",
    "    \n",
    "    costs = []\n",
    "    \n",
    "    for i in range(num_iterations):\n",
    "        \n",
    "        \n",
    "        # Cost and gradient calculation (≈ 1-4 lines of code)\n",
    "        ### START CODE HERE ### \n",
    "        grads, cost = propagate(w, b, X, Y)\n",
    "        ### END CODE HERE ###\n",
    "        \n",
    "        # Retrieve derivatives from grads\n",
    "        dw = grads[\"dw\"]\n",
    "        db = grads[\"db\"]\n",
    "        \n",
    "        # update rule (≈ 2 lines of code)\n",
    "        ### START CODE HERE ###\n",
    "        w = w-learning_rate*dw\n",
    "        b = b-learning_rate*db\n",
    "        ### END CODE HERE ###\n",
    "        \n",
    "        # Record the costs\n",
    "        if i % 100 == 0:\n",
    "            costs.append(cost)\n",
    "        \n",
    "        # Print the cost every 100 training iterations\n",
    "        if print_cost and i % 100 == 0:\n",
    "            print (\"Cost after iteration %i: %f\" %(i, cost))\n",
    "    \n",
    "    params = {\"w\": w,\n",
    "              \"b\": b}\n",
    "    \n",
    "    grads = {\"dw\": dw,\n",
    "             \"db\": db}\n",
    "    \n",
    "    return params, grads, costs"
   ]
  },
  {
   "cell_type": "code",
   "execution_count": 135,
   "metadata": {},
   "outputs": [
    {
     "name": "stdout",
     "output_type": "stream",
     "text": [
      "w = [[ 0.19033591]\n",
      " [ 0.12259159]]\n",
      "b = 1.92535983008\n",
      "dw = [[ 0.67752042]\n",
      " [ 1.41625495]]\n",
      "db = 0.219194504541\n"
     ]
    }
   ],
   "source": [
    "params, grads, costs = optimize(w, b, X, Y, num_iterations= 100, learning_rate = 0.009, print_cost = False)\n",
    "\n",
    "print (\"w = \" + str(params[\"w\"]))\n",
    "print (\"b = \" + str(params[\"b\"]))\n",
    "print (\"dw = \" + str(grads[\"dw\"]))\n",
    "print (\"db = \" + str(grads[\"db\"]))"
   ]
  },
  {
   "cell_type": "markdown",
   "metadata": {},
   "source": [
    "**Expected Output**: \n",
    "\n",
    "<table style=\"width:40%\">\n",
    "    <tr>\n",
    "       <td> **w** </td>\n",
    "       <td>[[ 0.19033591]\n",
    " [ 0.12259159]] </td>\n",
    "    </tr>\n",
    "    \n",
    "    <tr>\n",
    "       <td> **b** </td>\n",
    "       <td> 1.92535983008 </td>\n",
    "    </tr>\n",
    "    <tr>\n",
    "       <td> **dw** </td>\n",
    "       <td> [[ 0.67752042]\n",
    " [ 1.41625495]] </td>\n",
    "    </tr>\n",
    "    <tr>\n",
    "       <td> **db** </td>\n",
    "       <td> 0.219194504541 </td>\n",
    "    </tr>\n",
    "\n",
    "</table>"
   ]
  },
  {
   "cell_type": "markdown",
   "metadata": {},
   "source": [
    "**Exercise:** The previous function will output the learned w and b. We are able to use w and b to predict the labels for a dataset X. Implement the `predict()` function. There are two steps to computing predictions:\n",
    "\n",
    "1. Calculate $\\hat{Y} = A = \\sigma(w^T X + b)$\n",
    "\n",
    "2. Convert the entries of a into 0 (if activation <= 0.5) or 1 (if activation > 0.5), stores the predictions in a vector `Y_prediction`. If you wish, you can use an `if`/`else` statement in a `for` loop (though there is also a way to vectorize this). "
   ]
  },
  {
   "cell_type": "code",
   "execution_count": 136,
   "metadata": {
    "collapsed": true
   },
   "outputs": [],
   "source": [
    "# GRADED FUNCTION: predict\n",
    "\n",
    "def predict(w, b, X):\n",
    "    '''\n",
    "    Predict whether the label is 0 or 1 using learned logistic regression parameters (w, b)\n",
    "    \n",
    "    Arguments:\n",
    "    w -- weights, a numpy array of size (num_px * num_px * 3, 1)\n",
    "    b -- bias, a scalar\n",
    "    X -- data of size (num_px * num_px * 3, number of examples)\n",
    "    \n",
    "    Returns:\n",
    "    Y_prediction -- a numpy array (vector) containing all predictions (0/1) for the examples in X\n",
    "    '''\n",
    "    m = X.shape[1]\n",
    "    Y_prediction = np.zeros((1, m))\n",
    "    print(w)\n",
    "    print(X)\n",
    "    print(b)\n",
    "    # Compute vector \"A\" predicting the probabilities of a cat being present in the picture\n",
    "    ### START CODE HERE ### (≈ 1 line of code)\n",
    "    A = sigmoid(np.dot(w.T, X) + b)\n",
    "    print(A)\n",
    "    ### END CODE HERE ###\n",
    "    \n",
    "    for i in range(A.shape[1]):\n",
    "        # Convert probabilities a[0,i] to actual predictions p[0,i]\n",
    "        ### START CODE HERE ### (≈ 4 lines of code)\n",
    "        Y_prediction[0, i] = 1 if A[0, i] > 0.5 else 0\n",
    "\n",
    "        ### END CODE HERE ###\n",
    "    \n",
    "    assert(Y_prediction.shape == (1, m))\n",
    "    \n",
    "    return Y_prediction"
   ]
  },
  {
   "cell_type": "code",
   "execution_count": 137,
   "metadata": {},
   "outputs": [
    {
     "name": "stdout",
     "output_type": "stream",
     "text": [
      "[[ 1.]\n",
      " [ 2.]]\n",
      "[[ 1.   2.  -1. ]\n",
      " [ 3.   4.  -3.2]]\n",
      "2.0\n",
      "[[ 0.99987661  0.99999386  0.00449627]]\n",
      "predictions = [[ 1.  1.  0.]]\n"
     ]
    }
   ],
   "source": [
    "print (\"predictions = \" + str(predict(w, b, X)))"
   ]
  },
  {
   "cell_type": "markdown",
   "metadata": {},
   "source": [
    "**Expected Output**: \n",
    "\n",
    "<table style=\"width:30%\">\n",
    "    <tr>\n",
    "         <td>\n",
    "             **predictions**\n",
    "         </td>\n",
    "          <td>\n",
    "            [[ 1.  1.  0.]]\n",
    "         </td>  \n",
    "   </tr>\n",
    "\n",
    "</table>\n"
   ]
  },
  {
   "cell_type": "markdown",
   "metadata": {},
   "source": [
    "<font color='blue'>\n",
    "**What to remember:**\n",
    "You've implemented several functions that:\n",
    "- Initialize (w,b)\n",
    "- Optimize the loss iteratively to learn parameters (w,b):\n",
    "    - computing the cost and its gradient \n",
    "    - updating the parameters using gradient descent\n",
    "- Use the learned (w,b) to predict the labels for a given set of examples"
   ]
  },
  {
   "cell_type": "markdown",
   "metadata": {},
   "source": [
    "## 5 - Merge all functions into a model ##\n",
    "\n",
    "You will now see how the overall model is structured by putting together all the building blocks (functions implemented in the previous parts) together, in the right order.\n",
    "\n",
    "**Exercise:** Implement the model function. Use the following notation:\n",
    "    - Y_prediction_test for your predictions on the test set\n",
    "    - Y_prediction_train for your predictions on the train set\n",
    "    - w, costs, grads for the outputs of optimize()"
   ]
  },
  {
   "cell_type": "code",
   "execution_count": 138,
   "metadata": {
    "collapsed": true
   },
   "outputs": [],
   "source": [
    "# GRADED FUNCTION: model\n",
    "\n",
    "def model(X_train, Y_train, X_test, Y_test, num_iterations=2000, learning_rate=0.5, print_cost=False):\n",
    "    \"\"\"\n",
    "    Builds the logistic regression model by calling the function you've implemented previously\n",
    "    \n",
    "    Arguments:\n",
    "    X_train -- training set represented by a numpy array of shape (num_px * num_px * 3, m_train)\n",
    "    Y_train -- training labels represented by a numpy array (vector) of shape (1, m_train)\n",
    "    X_test -- test set represented by a numpy array of shape (num_px * num_px * 3, m_test)\n",
    "    Y_test -- test labels represented by a numpy array (vector) of shape (1, m_test)\n",
    "    num_iterations -- hyperparameter representing the number of iterations to optimize the parameters\n",
    "    learning_rate -- hyperparameter representing the learning rate used in the update rule of optimize()\n",
    "    print_cost -- Set to true to print the cost every 100 iterations\n",
    "    \n",
    "    Returns:\n",
    "    d -- dictionary containing information about the model.\n",
    "    \"\"\"\n",
    "    \n",
    "    ### START CODE HERE ###\n",
    "    # initialize parameters with zeros (≈ 1 line of code)\n",
    "    w = np.zeros(shape=(X_train.shape[0], 1))\n",
    "    b = 0\n",
    "\n",
    "    # Gradient descent (≈ 1 line of code)\n",
    "    parameters, grads, costs = optimize(w, b, X_train, Y_train, num_iterations, learning_rate, print_cost)\n",
    "    \n",
    "    # Retrieve parameters w and b from dictionary \"parameters\"\n",
    "    w = parameters[\"w\"]\n",
    "    b = parameters[\"b\"]\n",
    "    \n",
    "    # Predict test/train set examples (≈ 2 lines of code)\n",
    "    Y_prediction_test = predict(w, b, X_test)\n",
    "    Y_prediction_train = predict(w, b, X_train)\n",
    "\n",
    "    ### END CODE HERE ###\n",
    "\n",
    "    # Print train/test Errors\n",
    "    print(\"train accuracy: {} %\".format(100 - np.mean(np.abs(Y_prediction_train - Y_train)) * 100))\n",
    "    print(\"test accuracy: {} %\".format(100 - np.mean(np.abs(Y_prediction_test - Y_test)) * 100))\n",
    "\n",
    "    \n",
    "    d = {\"costs\": costs,\n",
    "         \"Y_prediction_test\": Y_prediction_test, \n",
    "         \"Y_prediction_train\" : Y_prediction_train, \n",
    "         \"w\" : w, \n",
    "         \"b\" : b,\n",
    "         \"learning_rate\" : learning_rate,\n",
    "         \"num_iterations\": num_iterations}\n",
    "    \n",
    "    return d"
   ]
  },
  {
   "cell_type": "markdown",
   "metadata": {},
   "source": [
    "Run the following cell to train your model."
   ]
  },
  {
   "cell_type": "code",
   "execution_count": 139,
   "metadata": {},
   "outputs": [
    {
     "name": "stdout",
     "output_type": "stream",
     "text": [
      "Cost after iteration 0: 0.693147\n",
      "Cost after iteration 100: 0.709726\n",
      "Cost after iteration 200: 0.657712\n",
      "Cost after iteration 300: 0.614611\n",
      "Cost after iteration 400: 0.578001\n",
      "Cost after iteration 500: 0.546372\n",
      "Cost after iteration 600: 0.518331\n",
      "Cost after iteration 700: 0.492852\n",
      "Cost after iteration 800: 0.469259\n",
      "Cost after iteration 900: 0.447139\n",
      "Cost after iteration 1000: 0.426262\n",
      "Cost after iteration 1100: 0.406617\n",
      "Cost after iteration 1200: 0.388723\n",
      "Cost after iteration 1300: 0.374678\n",
      "Cost after iteration 1400: 0.365826\n",
      "Cost after iteration 1500: 0.358532\n",
      "Cost after iteration 1600: 0.351612\n",
      "Cost after iteration 1700: 0.345012\n",
      "Cost after iteration 1800: 0.338704\n",
      "Cost after iteration 1900: 0.332664\n",
      "[[ 0.00136813]\n",
      " [-0.00026341]\n",
      " [-0.00052838]\n",
      " ..., \n",
      " [ 0.        ]\n",
      " [ 0.        ]\n",
      " [ 0.        ]]\n",
      "[[ 0.61960784  0.40784314  0.3254902  ...,  0.36470588  0.64313725\n",
      "   0.43921569]\n",
      " [ 0.35294118  0.64705882  0.43529412 ...,  0.45490196  0.36470588\n",
      "   0.65490196]\n",
      " [ 0.45098039  0.36862745  0.67058824 ...,  0.69411765  0.50196078\n",
      "   0.41960784]\n",
      " ..., \n",
      " [ 0.36078431  0.55686275  0.34117647 ...,  0.18823529  0.16862745\n",
      "   0.34117647]\n",
      " [ 0.12156863  0.19215686  0.34901961 ...,  0.2745098   0.10588235\n",
      "   0.13333333]\n",
      " [ 0.29803922  0.15294118  0.14509804 ...,  0.01960784  0.08627451\n",
      "   0.01960784]]\n",
      "-0.000393168221348\n",
      "[[ 0.29525734  0.26658459  0.24319337  0.3172707   0.30845875  0.30650144\n",
      "   0.35376266  0.32866907  0.30764206  0.35315405  0.32383551  0.2812518\n",
      "   0.30766128  0.31391988  0.26533825  0.31668835  0.27904405  0.22394042\n",
      "   0.30285626  0.27872513  0.24024891  0.28570146  0.28934852  0.22860937\n",
      "   0.28370279  0.30154407  0.23755717  0.31565571  0.33884597  0.27594525\n",
      "   0.32933167  0.36604027  0.29295321  0.31171322  0.29930303  0.26237127\n",
      "   0.2992686   0.28700513  0.25044361  0.32759084  0.29238018  0.24518277\n",
      "   0.34219505  0.28517959  0.2107977   0.28946121  0.24728894  0.16985359\n",
      "   0.26462434  0.24658093]]\n",
      "[[ 0.00136813]\n",
      " [-0.00026341]\n",
      " [-0.00052838]\n",
      " ..., \n",
      " [ 0.        ]\n",
      " [ 0.        ]\n",
      " [ 0.        ]]\n",
      "[[ 0.06666667  0.12156863  0.21960784 ...,  0.26666667  0.12941176\n",
      "   0.16078431]\n",
      " [ 0.27843137  0.13333333  0.17254902 ...,  0.18431373  0.30196078\n",
      "   0.15686275]\n",
      " [ 0.19215686  0.30980392  0.15686275 ...,  0.14901961  0.18039216\n",
      "   0.29411765]\n",
      " ..., \n",
      " [ 0.          0.          0.         ...,  0.          0.          0.        ]\n",
      " [ 0.          0.          0.         ...,  0.          0.          0.        ]\n",
      " [ 0.          0.          0.         ...,  0.          0.          0.        ]]\n",
      "-0.000393168221348\n",
      "[[ 0.1285541   0.0828577   0.51390991  0.08177344  0.10221405  0.4492055\n",
      "   0.0654397   0.29231711  0.51727456  0.06127984  0.35247785  0.67987504\n",
      "   0.09606256  0.52615468  0.58610006  0.08632102  0.29586481  0.17417206\n",
      "   0.07777218  0.35466861  0.11877457  0.13520061  0.34350344  0.2201488\n",
      "   0.62651926  0.61002341  0.45542142  0.68929451  0.30213458  0.42495041\n",
      "   0.20478432  0.03823863  0.12313843  0.04238494  0.01331445  0.16343152\n",
      "   0.05293805  0.02520581  0.66342007  0.25793447  0.05506484  0.80348001\n",
      "   0.50876988  0.03646405  0.49997961  0.17515055  0.02471054  0.63572056\n",
      "   0.1382005   0.02246715  0.60186035  0.22039899  0.02546849  0.50525719\n",
      "   0.63626444  0.10101948  0.87530422  0.9029633   0.31990448  0.89204726\n",
      "   0.83777692  0.37622308  0.42276174  0.1581673   0.0482031   0.21872734\n",
      "   0.05861263  0.04436814  0.60958969  0.10600956  0.0543414   0.63940967\n",
      "   0.07471531  0.02167494  0.14233023  0.02013751  0.00855356  0.04997489\n",
      "   0.01542693  0.01578698  0.15480756  0.10496605  0.10701406  0.56321945\n",
      "   0.50823187  0.25011626  0.26936828  0.25893339  0.3906251   0.24722004\n",
      "   0.23293603  0.51578047  0.55355373  0.62733736  0.76806538  0.285741\n",
      "   0.31877258  0.51989885  0.10923198  0.13051095  0.15857207  0.16611981\n",
      "   0.35535354  0.40050893  0.68007349  0.65442414  0.82057614  0.92341203\n",
      "   0.9106806   0.85453206  0.85004574  0.77255228  0.25909852  0.17498086\n",
      "   0.27120757  0.075335    0.05411289  0.37746411  0.18506827  0.05788701\n",
      "   0.28650478  0.48623173  0.10607689  0.38116847  0.64983592  0.29413013\n",
      "   0.69010787  0.48846134  0.43463967  0.61468924  0.35136652  0.34396763\n",
      "   0.45952221  0.7927259   0.80289579  0.71467823  0.8569626   0.67555504\n",
      "   0.25616159  0.37072837  0.18905145  0.16760315  0.62601847  0.42294733\n",
      "   0.54584334  0.89283081  0.78809796  0.50039917  0.7438641   0.64637564\n",
      "   0.34647348  0.20658471  0.20178626  0.53537605  0.13149265  0.12046313\n",
      "   0.5648913   0.08668902  0.07508461  0.32849116  0.08937157  0.17884024\n",
      "   0.51336352  0.27202849  0.42534778  0.47223665  0.53758871  0.42186216\n",
      "   0.44194841  0.66887255  0.60236352  0.74567611  0.47128412  0.37897078\n",
      "   0.81894819  0.55496104  0.4482007   0.68803365  0.25399376  0.45672126\n",
      "   0.20555349  0.04979     0.27720946  0.06919156  0.04864707  0.63754932\n",
      "   0.11485603  0.0704653   0.72722237  0.15867159  0.04919722  0.45592061\n",
      "   0.19559259  0.05098324  0.38938378  0.09045     0.07663603  0.52033842\n",
      "   0.06467501  0.14492149  0.47833983  0.03093452  0.07758984  0.25461678\n",
      "   0.0188143   0.07637082  0.1294527   0.0150395   0.05006361]]\n",
      "train accuracy: 91.38755980861244 %\n",
      "test accuracy: 34.0 %\n"
     ]
    }
   ],
   "source": [
    "d = model(train_set_x, train_set_y, test_set_x, test_set_y, num_iterations = 2000, learning_rate = 0.005, print_cost = True)"
   ]
  },
  {
   "cell_type": "markdown",
   "metadata": {},
   "source": [
    "**Expected Output**: \n",
    "\n",
    "<table style=\"width:40%\"> \n",
    "\n",
    "    <tr>\n",
    "        <td> **Cost after iteration 0 **  </td> \n",
    "        <td> 0.693147 </td>\n",
    "    </tr>\n",
    "      <tr>\n",
    "        <td> <center> $\\vdots$ </center> </td> \n",
    "        <td> <center> $\\vdots$ </center> </td> \n",
    "    </tr>  \n",
    "    <tr>\n",
    "        <td> **Train Accuracy**  </td> \n",
    "        <td> 99.04306220095694 % </td>\n",
    "    </tr>\n",
    "\n",
    "    <tr>\n",
    "        <td>**Test Accuracy** </td> \n",
    "        <td> 70.0 % </td>\n",
    "    </tr>\n",
    "</table> \n",
    "\n",
    "\n"
   ]
  },
  {
   "cell_type": "markdown",
   "metadata": {},
   "source": [
    "**Comment**: Training accuracy is close to 100%. This is a good sanity check: your model is working and has high enough capacity to fit the training data. Test accuracy is 68%. It is actually not bad for this simple model, given the small dataset we used and that logistic regression is a linear classifier. But no worries, you'll build an even better classifier next week!\n",
    "\n",
    "Also, you see that the model is clearly overfitting the training data. Later in this specialization you will learn how to reduce overfitting, for example by using regularization. Using the code below (and changing the `index` variable) you can look at predictions on pictures of the test set."
   ]
  },
  {
   "cell_type": "code",
   "execution_count": 118,
   "metadata": {},
   "outputs": [
    {
     "name": "stdout",
     "output_type": "stream",
     "text": [
      "y = 1, you predicted that it is a \"non-cat\" picture.\n"
     ]
    },
    {
     "data": {
      "image/png": "[encoded data removed]",
      "text/plain": [
       "<matplotlib.figure.Figure at 0x7f86061833c8>"
      ]
     },
     "metadata": {},
     "output_type": "display_data"
    }
   ],
   "source": [
    "# Example of a picture that was wrongly classified.\n",
    "index = 1\n",
    "plt.imshow(test_set_x[:,index].reshape((num_px, num_px, 3)))\n",
    "print (\"y = \" + str(test_set_y[0,index]) + \", you predicted that it is a \\\"\" + classes[d[\"Y_prediction_test\"][0,index]].decode(\"utf-8\") +  \"\\\" picture.\")"
   ]
  },
  {
   "cell_type": "markdown",
   "metadata": {},
   "source": [
    "Let's also plot the cost function and the gradients."
   ]
  },
  {
   "cell_type": "code",
   "execution_count": 119,
   "metadata": {},
   "outputs": [
    {
     "data": {
      "image/png": "[encoded data removed]",
      "text/plain": [
       "<matplotlib.figure.Figure at 0x7f860622af60>"
      ]
     },
     "metadata": {},
     "output_type": "display_data"
    }
   ],
   "source": [
    "# Plot learning curve (with costs)\n",
    "costs = np.squeeze(d['costs'])\n",
    "plt.plot(costs)\n",
    "plt.ylabel('cost')\n",
    "plt.xlabel('iterations (per hundreds)')\n",
    "plt.title(\"Learning rate =\" + str(d[\"learning_rate\"]))\n",
    "plt.show()"
   ]
  },
  {
   "cell_type": "markdown",
   "metadata": {},
   "source": [
    "**Interpretation**:\n",
    "You can see the cost decreasing. It shows that the parameters are being learned. However, you see that you could train the model even more on the training set. Try to increase the number of iterations in the cell above and rerun the cells. You might see that the training set accuracy goes up, but the test set accuracy goes down. This is called overfitting. "
   ]
  },
  {
   "cell_type": "markdown",
   "metadata": {},
   "source": [
    "## 6 - Further analysis (optional/ungraded exercise) ##\n",
    "\n",
    "Congratulations on building your first image classification model. Let's analyze it further, and examine possible choices for the learning rate $\\alpha$. "
   ]
  },
  {
   "cell_type": "markdown",
   "metadata": {},
   "source": [
    "#### Choice of learning rate ####\n",
    "\n",
    "**Reminder**:\n",
    "In order for Gradient Descent to work you must choose the learning rate wisely. The learning rate $\\alpha$  determines how rapidly we update the parameters. If the learning rate is too large we may \"overshoot\" the optimal value. Similarly, if it is too small we will need too many iterations to converge to the best values. That's why it is crucial to use a well-tuned learning rate.\n",
    "\n",
    "Let's compare the learning curve of our model with several choices of learning rates. Run the cell below. This should take about 1 minute. Feel free also to try different values than the three we have initialized the `learning_rates` variable to contain, and see what happens. "
   ]
  },
  {
   "cell_type": "code",
   "execution_count": 120,
   "metadata": {},
   "outputs": [
    {
     "name": "stdout",
     "output_type": "stream",
     "text": [
      "learning rate is: 0.01\n",
      "[[ 0.00177187]\n",
      " [-0.00146901]\n",
      " [-0.00105789]\n",
      " ..., \n",
      " [ 0.        ]\n",
      " [ 0.        ]\n",
      " [ 0.        ]]\n",
      "[[ 0.61960784  0.40784314  0.3254902  ...,  0.36470588  0.64313725\n",
      "   0.43921569]\n",
      " [ 0.35294118  0.64705882  0.43529412 ...,  0.45490196  0.36470588\n",
      "   0.65490196]\n",
      " [ 0.45098039  0.36862745  0.67058824 ...,  0.69411765  0.50196078\n",
      "   0.41960784]\n",
      " ..., \n",
      " [ 0.36078431  0.55686275  0.34117647 ...,  0.18823529  0.16862745\n",
      "   0.34117647]\n",
      " [ 0.12156863  0.19215686  0.34901961 ...,  0.2745098   0.10588235\n",
      "   0.13333333]\n",
      " [ 0.29803922  0.15294118  0.14509804 ...,  0.01960784  0.08627451\n",
      "   0.01960784]]\n",
      "-0.0020551602639\n",
      "[[ 0.00901266  0.00722336  0.006075    0.01105363  0.01047035  0.01068216\n",
      "   0.01506992  0.01328086  0.01158932  0.0159165   0.01339738  0.00957705\n",
      "   0.01128886  0.01185056  0.00798945  0.01181545  0.00841834  0.00515124\n",
      "   0.0100151   0.00812086  0.00578018  0.00881657  0.0091482   0.00533307\n",
      "   0.00866729  0.00993558  0.00614815  0.01149181  0.0130708   0.00879114\n",
      "   0.01376182  0.01830205  0.01119846  0.01253713  0.01135475  0.00893104\n",
      "   0.01033559  0.00932364  0.00771987  0.01277893  0.00947582  0.00713115\n",
      "   0.01376368  0.00905713  0.00508826  0.00906815  0.00657677  0.00321997\n",
      "   0.00721567  0.00629843]]\n",
      "[[ 0.00177187]\n",
      " [-0.00146901]\n",
      " [-0.00105789]\n",
      " ..., \n",
      " [ 0.        ]\n",
      " [ 0.        ]\n",
      " [ 0.        ]]\n",
      "[[ 0.06666667  0.12156863  0.21960784 ...,  0.26666667  0.12941176\n",
      "   0.16078431]\n",
      " [ 0.27843137  0.13333333  0.17254902 ...,  0.18431373  0.30196078\n",
      "   0.15686275]\n",
      " [ 0.19215686  0.30980392  0.15686275 ...,  0.14901961  0.18039216\n",
      "   0.29411765]\n",
      " ..., \n",
      " [ 0.          0.          0.         ...,  0.          0.          0.        ]\n",
      " [ 0.          0.          0.         ...,  0.          0.          0.        ]\n",
      " [ 0.          0.          0.         ...,  0.          0.          0.        ]]\n",
      "-0.0020551602639\n",
      "[[  7.63259331e-04   4.13152875e-04   3.26956446e-02   3.92883752e-04\n",
      "    5.37086124e-04   2.33290919e-02   3.09367756e-04   3.93954707e-03\n",
      "    3.93585627e-02   3.24096988e-04   6.83668753e-03   1.02314879e-01\n",
      "    6.68163444e-04   1.83401752e-02   4.18762796e-02   5.07001667e-04\n",
      "    3.43878218e-03   1.60014319e-03   3.66243018e-04   4.49767890e-03\n",
      "    7.29269021e-04   1.07034254e-03   5.56661312e-03   3.27590887e-03\n",
      "    6.31205791e-02   4.50366372e-02   2.27323415e-02   9.85855173e-02\n",
      "    5.27806673e-03   1.34169211e-02   2.29297347e-03   1.00146952e-04\n",
      "    8.95269594e-04   1.24327774e-04   1.91011457e-05   2.11578467e-03\n",
      "    1.89088249e-04   6.79905734e-05   1.45917297e-01   4.07588762e-03\n",
      "    3.04378340e-04   4.57175830e-01   2.40344460e-02   1.41870017e-04\n",
      "    8.61028071e-02   1.68273905e-03   6.46129513e-05   1.78303115e-01\n",
      "    1.05581611e-03   5.05044320e-05   1.52490956e-01   3.36488114e-03\n",
      "    6.58222602e-05   1.22607630e-01   1.10023093e-01   7.68219051e-04\n",
      "    7.87251214e-01   7.36818899e-01   7.32932313e-03   7.77686947e-01\n",
      "    4.46906153e-01   7.29473794e-03   3.09557862e-02   1.83903777e-03\n",
      "    1.06071138e-04   3.93472014e-03   2.50622443e-04   1.10977178e-04\n",
      "    5.47712494e-02   7.47054882e-04   1.94150093e-04   6.57002918e-02\n",
      "    4.44720719e-04   4.90162321e-05   1.47867820e-03   5.46354239e-05\n",
      "    1.30146660e-05   2.20430363e-04   3.37347853e-05   3.33647887e-05\n",
      "    1.31053859e-03   6.50163703e-04   6.84740281e-04   2.30080969e-02\n",
      "    1.60395685e-02   2.94404364e-03   2.83151565e-03   2.75674524e-03\n",
      "    9.65245343e-03   2.84716456e-03   3.42600683e-03   3.91116305e-02\n",
      "    3.43403403e-02   6.88988693e-02   2.18494737e-01   4.94315186e-03\n",
      "    6.16055435e-03   2.41756948e-02   4.83537104e-04   6.82638990e-04\n",
      "    1.26560265e-03   1.39411917e-03   1.03005691e-02   2.53154989e-02\n",
      "    1.83277252e-01   2.46616265e-01   6.31571803e-01   8.88284758e-01\n",
      "    8.75341449e-01   6.97855824e-01   5.94414879e-01   3.36721169e-01\n",
      "    7.25862699e-03   1.93886958e-03   3.79215838e-03   2.53219800e-04\n",
      "    1.03697266e-04   4.50010248e-03   1.05021351e-03   1.12037676e-04\n",
      "    2.90027968e-03   1.46862654e-02   4.20940292e-04   1.07505699e-02\n",
      "    8.78300214e-02   4.45452092e-03   1.41977564e-01   5.57632787e-02\n",
      "    1.66283015e-02   1.16857106e-01   3.29280056e-02   1.58434987e-02\n",
      "    6.31840471e-02   5.61346458e-01   3.94410203e-01   2.47557106e-01\n",
      "    6.63037041e-01   1.17683509e-01   5.67988704e-03   2.08402664e-02\n",
      "    2.25910803e-03   1.72651342e-03   1.17400911e-01   2.60844849e-02\n",
      "    5.74935715e-02   7.74952077e-01   4.05173786e-01   6.13160638e-02\n",
      "    3.32588118e-01   1.13222474e-01   1.18552785e-02   3.47915904e-03\n",
      "    1.98823458e-03   1.92109368e-02   7.63201352e-04   5.39145482e-04\n",
      "    2.07695278e-02   3.36490185e-04   2.25927858e-04   5.15425847e-03\n",
      "    3.40461385e-04   1.05101476e-03   2.04962445e-02   3.13275126e-03\n",
      "    9.73818472e-03   2.99296956e-02   3.62092554e-02   2.23038056e-02\n",
      "    6.25714847e-02   1.80201945e-01   1.28945715e-01   4.64166421e-01\n",
      "    6.98108197e-02   3.58440344e-02   5.70720860e-01   6.88313456e-02\n",
      "    3.00940238e-02   1.46982787e-01   3.72020288e-03   1.40681293e-02\n",
      "    2.32497742e-03   1.31766142e-04   3.73981084e-03   2.70899901e-04\n",
      "    1.57546773e-04   6.64328735e-02   7.70675152e-04   3.81509860e-04\n",
      "    1.61941732e-01   1.35319321e-03   1.96629918e-04   2.41099769e-02\n",
      "    1.60517758e-03   1.63715631e-04   1.25503285e-02   4.09904932e-04\n",
      "    2.95939835e-04   2.85052994e-02   2.56236912e-04   8.68112320e-04\n",
      "    2.20570322e-02   8.42747736e-05   3.01193596e-04   4.39314847e-03\n",
      "    3.90372615e-05   2.92806958e-04   1.01717762e-03   2.67947018e-05\n",
      "    1.33654742e-04]]\n",
      "train accuracy: 71.29186602870814 %\n",
      "test accuracy: 34.0 %\n",
      "\n",
      "-------------------------------------------------------\n",
      "\n",
      "learning rate is: 0.001\n",
      "[[ -5.56354783e-05]\n",
      " [ -6.51497035e-04]\n",
      " [ -1.28011096e-04]\n",
      " ..., \n",
      " [  0.00000000e+00]\n",
      " [  0.00000000e+00]\n",
      " [  0.00000000e+00]]\n",
      "[[ 0.61960784  0.40784314  0.3254902  ...,  0.36470588  0.64313725\n",
      "   0.43921569]\n",
      " [ 0.35294118  0.64705882  0.43529412 ...,  0.45490196  0.36470588\n",
      "   0.65490196]\n",
      " [ 0.45098039  0.36862745  0.67058824 ...,  0.69411765  0.50196078\n",
      "   0.41960784]\n",
      " ..., \n",
      " [ 0.36078431  0.55686275  0.34117647 ...,  0.18823529  0.16862745\n",
      "   0.34117647]\n",
      " [ 0.12156863  0.19215686  0.34901961 ...,  0.2745098   0.10588235\n",
      "   0.13333333]\n",
      " [ 0.29803922  0.15294118  0.14509804 ...,  0.01960784  0.08627451\n",
      "   0.01960784]]\n",
      "-0.000284710080909\n",
      "[[ 0.3266144   0.32738169  0.34013206  0.34359699  0.34464526  0.36035383\n",
      "   0.35655663  0.35604905  0.36666078  0.36004911  0.35860936  0.36353266\n",
      "   0.34979233  0.35242154  0.35401025  0.34477401  0.33399069  0.33118677\n",
      "   0.33441684  0.3305762   0.32857783  0.32608761  0.33407311  0.32757895\n",
      "   0.32401077  0.33510712  0.33655094  0.3365849   0.34602162  0.35091045\n",
      "   0.34594038  0.36414803  0.36153106  0.34544018  0.35467968  0.36140177\n",
      "   0.34360302  0.34676799  0.35986336  0.34971467  0.34580048  0.36069037\n",
      "   0.35218025  0.34914933  0.35204484  0.34064951  0.33906091  0.33375572\n",
      "   0.33173701  0.33401489]]\n",
      "[[ -5.56354783e-05]\n",
      " [ -6.51497035e-04]\n",
      " [ -1.28011096e-04]\n",
      " ..., \n",
      " [  0.00000000e+00]\n",
      " [  0.00000000e+00]\n",
      " [  0.00000000e+00]]\n",
      "[[ 0.06666667  0.12156863  0.21960784 ...,  0.26666667  0.12941176\n",
      "   0.16078431]\n",
      " [ 0.27843137  0.13333333  0.17254902 ...,  0.18431373  0.30196078\n",
      "   0.15686275]\n",
      " [ 0.19215686  0.30980392  0.15686275 ...,  0.14901961  0.18039216\n",
      "   0.29411765]\n",
      " ..., \n",
      " [ 0.          0.          0.         ...,  0.          0.          0.        ]\n",
      " [ 0.          0.          0.         ...,  0.          0.          0.        ]\n",
      " [ 0.          0.          0.         ...,  0.          0.          0.        ]]\n",
      "-0.000284710080909\n",
      "[[ 0.16174125  0.14415054  0.42198711  0.1506386   0.14932151  0.42685819\n",
      "   0.14881023  0.1910988   0.45468891  0.15186688  0.20803331  0.4732122\n",
      "   0.1569873   0.21730882  0.43442043  0.15863459  0.19389029  0.35743089\n",
      "   0.17209118  0.21620449  0.36834527  0.22066899  0.24829806  0.44589305\n",
      "   0.34679868  0.30529379  0.50056064  0.35582317  0.22805543  0.4385\n",
      "   0.22727453  0.12385329  0.31556869  0.147043    0.08800739  0.31983594\n",
      "   0.15378772  0.09973054  0.4590421   0.23565736  0.12744338  0.53341436\n",
      "   0.30027834  0.12444779  0.49074269  0.25082149  0.12112767  0.53140022\n",
      "   0.26543878  0.13370576  0.56037828  0.33319636  0.16824298  0.61050745\n",
      "   0.48840795  0.25404773  0.73072061  0.60796044  0.32942225  0.72626039\n",
      "   0.54729914  0.29346157  0.54112831  0.30513552  0.15157301  0.38484258\n",
      "   0.19250786  0.11285118  0.37093692  0.16379663  0.0972854   0.31207636\n",
      "   0.1284082   0.0719649   0.1929709   0.09406922  0.06098678  0.15344204\n",
      "   0.0949204   0.08044885  0.20835696  0.16266255  0.14785147  0.32433914\n",
      "   0.28966877  0.23161493  0.3318431   0.31019228  0.32123585  0.36885531\n",
      "   0.35636718  0.3952841   0.4472017   0.46179985  0.46495898  0.3901602\n",
      "   0.40046401  0.40524235  0.3221339   0.34475626  0.34735859  0.37053047\n",
      "   0.45736354  0.48781587  0.56040831  0.61254047  0.6538023   0.68459348\n",
      "   0.70938257  0.65769792  0.61058113  0.59803409  0.43516935  0.34874666\n",
      "   0.38219672  0.27552295  0.20857034  0.32998877  0.27765123  0.19374348\n",
      "   0.31987274  0.35835421  0.24074839  0.39262011  0.46095732  0.3363155\n",
      "   0.51098299  0.50330948  0.42250462  0.54507189  0.52806965  0.46441209\n",
      "   0.55467766  0.64826608  0.58265957  0.60456389  0.66302017  0.53776309\n",
      "   0.49554974  0.53243578  0.4258569   0.45362935  0.56990847  0.49036971\n",
      "   0.53740933  0.6328005   0.56479261  0.52226877  0.54349911  0.4769578\n",
      "   0.4350146   0.35675402  0.31376019  0.39179464  0.26085022  0.24496609\n",
      "   0.35444852  0.21953993  0.22035976  0.31582146  0.22677445  0.28023263\n",
      "   0.38735464  0.31099978  0.3951945   0.45551881  0.42805128  0.48205859\n",
      "   0.51798928  0.51647543  0.57252791  0.59792724  0.49591082  0.55676509\n",
      "   0.58853113  0.45984148  0.53014198  0.47719528  0.3187838   0.45609913\n",
      "   0.29896296  0.19146003  0.36983842  0.20005295  0.15835585  0.41554421\n",
      "   0.1830988   0.15073356  0.43667892  0.17165471  0.13064176  0.38610907\n",
      "   0.1631822   0.11974403  0.36878984  0.13731504  0.12398842  0.38910205\n",
      "   0.12876811  0.14248739  0.38405361  0.11291562  0.12976276  0.33570664\n",
      "   0.10122872  0.12568553  0.29323694  0.10242233  0.12089592]]\n",
      "train accuracy: 74.16267942583733 %\n",
      "test accuracy: 34.0 %\n",
      "\n",
      "-------------------------------------------------------\n",
      "\n",
      "learning rate is: 0.0001\n"
     ]
    },
    {
     "name": "stdout",
     "output_type": "stream",
     "text": [
      "[[  6.01025295e-05]\n",
      " [ -2.39514228e-04]\n",
      " [ -3.57735720e-04]\n",
      " ..., \n",
      " [  0.00000000e+00]\n",
      " [  0.00000000e+00]\n",
      " [  0.00000000e+00]]\n",
      "[[ 0.61960784  0.40784314  0.3254902  ...,  0.36470588  0.64313725\n",
      "   0.43921569]\n",
      " [ 0.35294118  0.64705882  0.43529412 ...,  0.45490196  0.36470588\n",
      "   0.65490196]\n",
      " [ 0.45098039  0.36862745  0.67058824 ...,  0.69411765  0.50196078\n",
      "   0.41960784]\n",
      " ..., \n",
      " [ 0.36078431  0.55686275  0.34117647 ...,  0.18823529  0.16862745\n",
      "   0.34117647]\n",
      " [ 0.12156863  0.19215686  0.34901961 ...,  0.2745098   0.10588235\n",
      "   0.13333333]\n",
      " [ 0.29803922  0.15294118  0.14509804 ...,  0.01960784  0.08627451\n",
      "   0.01960784]]\n",
      "-0.000272013364037\n",
      "[[ 0.35159564  0.35275511  0.37173581  0.3563256   0.35748374  0.37582796\n",
      "   0.35852364  0.35875456  0.37643203  0.3583002   0.35928914  0.37569574\n",
      "   0.35674548  0.35857082  0.37457728  0.35555227  0.35449355  0.36962974\n",
      "   0.35297094  0.35356938  0.36789755  0.35133088  0.35404273  0.36864965\n",
      "   0.35097112  0.35354298  0.36987852  0.35355054  0.35518394  0.37279756\n",
      "   0.35505494  0.35874198  0.37525639  0.35570475  0.35875223  0.37696223\n",
      "   0.35728198  0.35830922  0.37840315  0.35978539  0.35996734  0.38038165\n",
      "   0.36177983  0.36222367  0.380918    0.36086064  0.36152181  0.37753412\n",
      "   0.35857157  0.35901019]]\n",
      "[[  6.01025295e-05]\n",
      " [ -2.39514228e-04]\n",
      " [ -3.57735720e-04]\n",
      " ..., \n",
      " [  0.00000000e+00]\n",
      " [  0.00000000e+00]\n",
      " [  0.00000000e+00]]\n",
      "[[ 0.06666667  0.12156863  0.21960784 ...,  0.26666667  0.12941176\n",
      "   0.16078431]\n",
      " [ 0.27843137  0.13333333  0.17254902 ...,  0.18431373  0.30196078\n",
      "   0.15686275]\n",
      " [ 0.19215686  0.30980392  0.15686275 ...,  0.14901961  0.18039216\n",
      "   0.29411765]\n",
      " ..., \n",
      " [ 0.          0.          0.         ...,  0.          0.          0.        ]\n",
      " [ 0.          0.          0.         ...,  0.          0.          0.        ]\n",
      " [ 0.          0.          0.         ...,  0.          0.          0.        ]]\n",
      "-0.000272013364037\n",
      "[[ 0.24045324  0.21318119  0.33060664  0.23004711  0.20696041  0.32510485\n",
      "   0.22332412  0.20791277  0.32444583  0.22150174  0.208679    0.3254265\n",
      "   0.22164724  0.20907016  0.32568502  0.22609035  0.21070889  0.32481825\n",
      "   0.23351202  0.21770261  0.33372752  0.24608222  0.22625958  0.34744299\n",
      "   0.26478946  0.23521439  0.35639611  0.27000816  0.23052636  0.35296694\n",
      "   0.25875002  0.21849873  0.34098638  0.24911313  0.21246044  0.34330961\n",
      "   0.25405766  0.21903565  0.36289392  0.27189717  0.23035546  0.37846237\n",
      "   0.28664165  0.23649282  0.38312931  0.28950893  0.24290283  0.39676495\n",
      "   0.3022999   0.25313953  0.40813676  0.31725557  0.26481475  0.41919273\n",
      "   0.33707678  0.27878015  0.43339353  0.3488871   0.2862152   0.42830524\n",
      "   0.33768329  0.2775298   0.39674418  0.30424996  0.25030162  0.36625757\n",
      "   0.27879018  0.23325615  0.34867213  0.26347115  0.22289077  0.33219184\n",
      "   0.25131148  0.2126836   0.3135808   0.24390102  0.21128295  0.30811345\n",
      "   0.24735959  0.22244065  0.32286303  0.26820636  0.24542905  0.3481653\n",
      "   0.29864574  0.2703651   0.3656735   0.31804036  0.29861731  0.38827519\n",
      "   0.3418621   0.32465679  0.41452187  0.37241264  0.34814418  0.42355828\n",
      "   0.38321258  0.35869319  0.42969554  0.39106286  0.36736437  0.45026691\n",
      "   0.41732983  0.39769604  0.48325235  0.44614157  0.42705812  0.50533681\n",
      "   0.46441195  0.43080494  0.49704112  0.44975267  0.40396486  0.46495157\n",
      "   0.42286857  0.38240281  0.44130761  0.41511557  0.38301819  0.43920451\n",
      "   0.41732762  0.39570507  0.45157839  0.4325481   0.41562697  0.47372424\n",
      "   0.455132    0.43201005  0.49534304  0.46919253  0.44484311  0.5089759\n",
      "   0.47735476  0.46503393  0.52685793  0.48695105  0.47009626  0.52396414\n",
      "   0.47506751  0.45336395  0.51063457  0.46758063  0.45345079  0.51307794\n",
      "   0.46663876  0.44827326  0.51038526  0.45261003  0.42415115  0.48728883\n",
      "   0.42872186  0.38999933  0.45415326  0.40918725  0.36207863  0.43207471\n",
      "   0.39303724  0.347287    0.42166124  0.38040593  0.34315711  0.42736799\n",
      "   0.38702715  0.35326965  0.44443279  0.39687604  0.36712771  0.45598527\n",
      "   0.40191734  0.37206863  0.46344189  0.40394112  0.36220963  0.45608024\n",
      "   0.38982872  0.34409338  0.43936664  0.36068415  0.31180245  0.41334249\n",
      "   0.32546632  0.27966363  0.38496703  0.2942016   0.2575715   0.37052544\n",
      "   0.27106904  0.23900004  0.35543535  0.25346316  0.2218604   0.33676938\n",
      "   0.24091702  0.20889472  0.32374722  0.22775868  0.2025454   0.3201135\n",
      "   0.22084001  0.20136027  0.31634382  0.21608107  0.19847186  0.3112627\n",
      "   0.21338777  0.19804387  0.31073701  0.21754318  0.20066743]]\n",
      "train accuracy: 66.02870813397129 %\n",
      "test accuracy: 34.0 %\n",
      "\n",
      "-------------------------------------------------------\n",
      "\n"
     ]
    },
    {
     "data": {
      "image/png": "[encoded data removed]",
      "text/plain": [
       "<matplotlib.figure.Figure at 0x7f8606a4e710>"
      ]
     },
     "metadata": {},
     "output_type": "display_data"
    }
   ],
   "source": [
    "learning_rates = [0.01, 0.001, 0.0001]\n",
    "models = {}\n",
    "for i in learning_rates:\n",
    "    print (\"learning rate is: \" + str(i))\n",
    "    models[str(i)] = model(train_set_x, train_set_y, test_set_x, test_set_y, num_iterations = 1500, learning_rate = i, print_cost = False)\n",
    "    print ('\\n' + \"-------------------------------------------------------\" + '\\n')\n",
    "\n",
    "for i in learning_rates:\n",
    "    plt.plot(np.squeeze(models[str(i)][\"costs\"]), label= str(models[str(i)][\"learning_rate\"]))\n",
    "\n",
    "plt.ylabel('cost')\n",
    "plt.xlabel('iterations (hundreds)')\n",
    "\n",
    "legend = plt.legend(loc='upper center', shadow=True)\n",
    "frame = legend.get_frame()\n",
    "frame.set_facecolor('0.90')\n",
    "plt.show()"
   ]
  },
  {
   "cell_type": "markdown",
   "metadata": {},
   "source": [
    "**Interpretation**: \n",
    "- Different learning rates give different costs and thus different predictions results.\n",
    "- If the learning rate is too large (0.01), the cost may oscillate up and down. It may even diverge (though in this example, using 0.01 still eventually ends up at a good value for the cost). \n",
    "- A lower cost doesn't mean a better model. You have to check if there is possibly overfitting. It happens when the training accuracy is a lot higher than the test accuracy.\n",
    "- In deep learning, we usually recommend that you: \n",
    "    - Choose the learning rate that better minimizes the cost function.\n",
    "    - If your model overfits, use other techniques to reduce overfitting. (We'll talk about this in later videos.) \n"
   ]
  },
  {
   "cell_type": "markdown",
   "metadata": {},
   "source": [
    "## 7 - Test with your own image (optional/ungraded exercise) ##\n",
    "\n",
    "Congratulations on finishing this assignment. You can use your own image and see the output of your model. To do that:\n",
    "    1. Click on \"File\" in the upper bar of this notebook, then click \"Open\" to go on your Coursera Hub.\n",
    "    2. Add your image to this Jupyter Notebook's directory, in the \"images\" folder\n",
    "    3. Change your image's name in the following code\n",
    "    4. Run the code and check if the algorithm is right (1 = cat, 0 = non-cat)!"
   ]
  },
  {
   "cell_type": "code",
   "execution_count": 62,
   "metadata": {
    "scrolled": false
   },
   "outputs": [
    {
     "name": "stdout",
     "output_type": "stream",
     "text": [
      "y = 0.0, your algorithm predicts a \"non-cat\" picture.\n"
     ]
    },
    {
     "data": {
      "image/png": "[encoded data removed]",
      "text/plain": [
       "<matplotlib.figure.Figure at 0x7f86083ddd30>"
      ]
     },
     "metadata": {},
     "output_type": "display_data"
    }
   ],
   "source": [
    "## START CODE HERE ## (PUT YOUR IMAGE NAME) \n",
    "my_image = \"grey-and-white-short-fur-cat-104827.jpg\"   # change this to the name of your image file \n",
    "## END CODE HERE ##\n",
    "\n",
    "# We preprocess the image to fit your algorithm.\n",
    "fname = \"images/\" + my_image\n",
    "image = np.array(ndimage.imread(fname, flatten=False))\n",
    "image = image/255.\n",
    "my_image = scipy.misc.imresize(image, size=(num_px,num_px)).reshape((1, num_px*num_px*3)).T\n",
    "my_predicted_image = predict(d[\"w\"], d[\"b\"], my_image)\n",
    "\n",
    "plt.imshow(image)\n",
    "print(\"y = \" + str(np.squeeze(my_predicted_image)) + \", your algorithm predicts a \\\"\" + classes[int(np.squeeze(my_predicted_image)),].decode(\"utf-8\") +  \"\\\" picture.\")"
   ]
  },
  {
   "cell_type": "markdown",
   "metadata": {},
   "source": [
    "<font color='blue'>\n",
    "**What to remember from this assignment:**\n",
    "1. Preprocessing the dataset is important.\n",
    "2. You implemented each function separately: initialize(), propagate(), optimize(). Then you built a model().\n",
    "3. Tuning the learning rate (which is an example of a \"hyperparameter\") can make a big difference to the algorithm. You will see more examples of this later in this course!"
   ]
  },
  {
   "cell_type": "markdown",
   "metadata": {},
   "source": [
    "Finally, if you'd like, we invite you to try different things on this Notebook. Make sure you submit before trying anything. Once you submit, things you can play with include:\n",
    "    - Play with the learning rate and the number of iterations\n",
    "    - Try different initialization methods and compare the results\n",
    "    - Test other preprocessings (center the data, or divide each row by its standard deviation)"
   ]
  },
  {
   "cell_type": "markdown",
   "metadata": {},
   "source": [
    "Bibliography:\n",
    "- http://www.wildml.com/2015/09/implementing-a-neural-network-from-scratch/\n",
    "- https://stats.stackexchange.com/questions/211436/why-do-we-normalize-images-by-subtracting-the-datasets-image-mean-and-not-the-c"
   ]
  }
 ],
 "metadata": {
  "coursera": {
   "course_slug": "neural-networks-deep-learning",
   "graded_item_id": "XaIWT",
   "launcher_item_id": "zAgPl"
  },
  "kernelspec": {
   "display_name": "Python 3",
   "language": "python",
   "name": "python3"
  },
  "language_info": {
   "codemirror_mode": {
    "name": "ipython",
    "version": 3
   },
   "file_extension": ".py",
   "mimetype": "text/x-python",
   "name": "python",
   "nbconvert_exporter": "python",
   "pygments_lexer": "ipython3",
   "version": "3.6.0"
  }
 },
 "nbformat": 4,
 "nbformat_minor": 2
}
